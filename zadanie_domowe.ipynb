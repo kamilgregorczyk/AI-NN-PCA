{
 "cells": [
  {
   "cell_type": "code",
   "execution_count": 5,
   "metadata": {},
   "outputs": [],
   "source": [
    "from multiprocessing import Process, Queue\n",
    "from typing import List, Tuple\n",
    "\n",
    "import matplotlib.pyplot as plt\n",
    "import numpy as np\n",
    "from sklearn.datasets import *\n",
    "from sklearn.neighbors import NearestNeighbors\n",
    "from sklearn.utils import Bunch\n",
    "\n",
    "from samples import Samples, Sample\n",
    "\n",
    "def nn(item: Sample, data: List[Sample]) -> Tuple[float, str]:\n",
    "    nbps: NearestNeighbors = NearestNeighbors(n_neighbors=1).fit([sample.get_attributes() for sample in data])\n",
    "    distance, sample_index = nbps.kneighbors([item.get_attributes()])\n",
    "    return distance[0][0], data[sample_index[0][0]].get_class_name(),\n",
    "\n",
    "def error_test(test_data: List[Sample], validation_data: List[Sample]) -> float:\n",
    "    errors = 0\n",
    "    for item in test_data:\n",
    "        distance, class_name = nn(item, validation_data)\n",
    "        if class_name != item.get_class_name():\n",
    "            errors += 1\n",
    "    try:\n",
    "        return 100 * float(errors) / len(test_data)\n",
    "    except ZeroDivisionError:\n",
    "        return 0.0\n",
    "\n",
    "def compute_errors(ratio: int, queue: Queue):\n",
    "    test_data, validation_data = samples.get_test_data(ratio)\n",
    "    return queue.put((ratio, error_test(test_data, validation_data)))\n"
   ]
  },
  {
   "cell_type": "code",
   "execution_count": 11,
   "metadata": {},
   "outputs": [],
   "source": [
    "samples: Samples = Samples.load_from_bunch(load_iris())\n",
    "#samples: Samples = Samples.load_from_bunch(load_digits())"
   ]
  },
  {
   "cell_type": "code",
   "execution_count": 12,
   "metadata": {},
   "outputs": [
    {
     "name": "stdout",
     "output_type": "stream",
     "text": [
      "Has 3 classes, with total of 150 samples\nDetails of first sample: \nsetosa - sepal length (cm): 5.1, sepal width (cm): 3.5, petal length (cm): 1.4, petal width (cm): 0.2\nClass setosa has 50 samples\nClass versicolor has 50 samples\nClass virginica has 50 samples\n"
     ]
    }
   ],
   "source": [
    "samples.print_details()\n",
    "\n",
    "print(\"Details of first sample: \")\n",
    "print(samples.get_all_samples()[0])\n",
    "for class_name in samples.get_classes():\n",
    "    samples.print_class_details(class_name)"
   ]
  },
  {
   "cell_type": "code",
   "execution_count": 10,
   "metadata": {},
   "outputs": [
    {
     "data": {
      "image/png": "[encoded data removed]",
      "text/plain": [
       "<matplotlib.figure.Figure at 0x113e0f550>"
      ]
     },
     "metadata": {},
     "output_type": "display_data"
    },
    {
     "name": "stdout",
     "output_type": "stream",
     "text": [
      "Best ration is 0.5 with error probability: 3.6830357142857144\n"
     ]
    }
   ],
   "source": [
    "output = Queue()\n",
    "processes = [Process(target=compute_errors, args=(ratio, output,)) for ratio in np.linspace(0, 1, 11)[2:-1]]\n",
    "for p in processes:\n",
    "    p.start()\n",
    "all_ratios = sorted([output.get() for p in processes], key=lambda k: k[0])\n",
    "best_ratio = min(all_ratios, key=lambda ratio: ratio[1])\n",
    "plt.plot([i[0] for i in all_ratios], [i[1] for i in all_ratios], 'ro--')\n",
    "plt.grid(True)\n",
    "plt.show()\n",
    "\n",
    "print(\"Best ration is %s with error probability: %s\" % (best_ratio[0], best_ratio[1]))\n"
   ]
  },
  {
   "cell_type": "code",
   "execution_count": null,
   "metadata": {},
   "outputs": [],
   "source": []
  }
 ],
 "metadata": {},
 "nbformat": 4,
 "nbformat_minor": 0
}
