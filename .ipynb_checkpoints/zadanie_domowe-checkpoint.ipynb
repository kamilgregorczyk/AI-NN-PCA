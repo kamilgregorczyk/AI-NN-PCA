{
 "cells": [
  {
   "cell_type": "code",
   "execution_count": 28,
   "metadata": {},
   "outputs": [],
   "source": [
    "from multiprocessing import Process, Queue\n",
    "from typing import List, Tuple\n",
    "\n",
    "import matplotlib.pyplot as plt\n",
    "import numpy as np\n",
    "from scipy.spatial.distance import euclidean\n",
    "from sklearn.datasets import *\n",
    "from sklearn.neighbors import NearestNeighbors\n",
    "from sklearn.utils import Bunch\n",
    "\n",
    "from instances import Instances, Instance\n",
    "\n",
    "def nn(item: Instance, data: List[Instance]) -> Tuple[float, str]:\n",
    "    min_value = float('inf')\n",
    "    class_name = None\n",
    "\n",
    "    for instance in data:\n",
    "        distance = euclidean(item.get_attributes(), instance.get_attributes())\n",
    "        if distance < min_value:\n",
    "            min_value = distance\n",
    "            class_name = instance.get_class_name()\n",
    "    return min_value, class_name,\n",
    "\n",
    "def error_test(test_data: List[Instance], validation_data: List[Instance]) -> float:\n",
    "    errors = 0\n",
    "    for item in test_data:\n",
    "        distance, class_name = nn(item, validation_data)\n",
    "        if class_name != item.get_class_name():\n",
    "            errors += 1\n",
    "    try:\n",
    "        return 100 * float(errors) / len(test_data)\n",
    "    except ZeroDivisionError:\n",
    "        return 0.0\n",
    "\n",
    "def compute_errors(ratio: int, queue: Queue):\n",
    "    test_data, validation_data = instances.get_test_data(ratio)\n",
    "    queue.put((ratio, error_test(test_data, validation_data)))\n"
   ]
  },
  {
   "cell_type": "code",
   "execution_count": 32,
   "metadata": {},
   "outputs": [],
   "source": [
    "instances: Instances = Instances.load_data_from_bunch(load_iris())"
   ]
  },
  {
   "cell_type": "code",
   "execution_count": 33,
   "metadata": {},
   "outputs": [
    {
     "name": "stdout",
     "output_type": "stream",
     "text": [
      "Zawiera 3 klas, o łącznej liczbie 150 instancji\n",
      "Pierwsza instancja: \n",
      "setosa - sepal length (cm): 5.1, sepal width (cm): 3.5, petal length (cm): 1.4, petal width (cm): 0.2\n",
      "Klasa setosa ma 50 instancji\n",
      "Klasa versicolor ma 50 instancji\n",
      "Klasa virginica ma 50 instancji\n"
     ]
    }
   ],
   "source": [
    "instances.print_details()\n",
    "\n",
    "print(\"Pierwsza instancja: \")\n",
    "print(instances.get_all_instances()[0])\n",
    "for class_name in instances.get_classes():\n",
    "    instances.print_class_details(class_name)\n"
   ]
  },
  {
   "cell_type": "code",
   "execution_count": 34,
   "metadata": {},
   "outputs": [
    {
     "data": {
      "image/png": "[encoded data removed]",
      "text/plain": [
       "<matplotlib.figure.Figure at 0x11437ca90>"
      ]
     },
     "metadata": {},
     "output_type": "display_data"
    }
   ],
   "source": [
    "output = Queue()\n",
    "processes = [Process(target=compute_errors, args=(ratio, output,)) for ratio in np.linspace(0, 1, 11)[2:-1]]\n",
    "for p in processes:\n",
    "    p.start()\n",
    "all_ratios = sorted([output.get() for p in processes], key=lambda k: k[0])\n",
    "best_ratio = min(all_ratios, key=lambda ratio: ratio[1])\n",
    "plt.plot([i[0] for i in all_ratios], [i[1] for i in all_ratios], 'ro--')\n",
    "plt.grid(True)\n",
    "plt.show()"
   ]
  },
  {
   "cell_type": "code",
   "execution_count": null,
   "metadata": {},
   "outputs": [],
   "source": []
  }
 ],
 "metadata": {
  "kernelspec": {
   "display_name": "Python 3",
   "language": "python",
   "name": "python3"
  },
  "language_info": {
   "codemirror_mode": {
    "name": "ipython",
    "version": 3
   },
   "file_extension": ".py",
   "mimetype": "text/x-python",
   "name": "python",
   "nbconvert_exporter": "python",
   "pygments_lexer": "ipython3",
   "version": "3.6.1"
  }
 },
 "nbformat": 4,
 "nbformat_minor": 1
}
